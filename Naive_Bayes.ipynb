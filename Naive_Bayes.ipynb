{
  "nbformat": 4,
  "nbformat_minor": 0,
  "metadata": {
    "colab": {
      "provenance": [],
      "collapsed_sections": []
    },
    "kernelspec": {
      "name": "python3",
      "display_name": "Python 3"
    },
    "language_info": {
      "name": "python"
    }
  },
  "cells": [
    {
      "cell_type": "markdown",
      "source": [
        "# Naive-Bayes Classification\n",
        "\n",
        "In this section, we dive deeper into one of the sub-classes of supervized learning. This method of calssification is very fast and fairly easy. \n",
        "\n",
        "1. Bayes' Theorem: The probability of a label L, given some features as conditions is described as: P(L | features) = P(features | L)(P(L)/P(features)"
      ],
      "metadata": {
        "id": "3L9x8Ima_ZWO"
      }
    },
    {
      "cell_type": "markdown",
      "source": [
        "Assume the data is described by Gaussian distribution with no covariance between dimensions. We can fit the model by finding the mean and standard deviation of the points within each label. \n",
        "\n",
        "\n",
        "``` \n",
        "from sklearn.naive_bayes import GaussianNB\n",
        "model = GaussianNB()\n",
        "model.fit(X, y);\n",
        "```\n",
        "\n"
      ],
      "metadata": {
        "id": "v7tJWKQnA_Lp"
      }
    },
    {
      "cell_type": "markdown",
      "source": [
        "**Multinomial Naive Bayes**\n",
        "\n",
        "Here the features are assumed to be generated from a simple multinomial distribution. This [multinomial distribution] describes the\n",
        "probability of observing counts among a number of categories, and thus multinomial naive Bayes is most appropriate for features that represent counts or count rates."
      ],
      "metadata": {
        "id": "g9TWg5xKBkYK"
      }
    },
    {
      "cell_type": "markdown",
      "source": [
        "# Example - Text Labelling\n",
        "\n",
        "We can try to classify the category which it belongs to. The features are directly related to the frequencies of the words in a text. A simple way of Feature-Engineering these features is to use the TF–IDF vectorizer. "
      ],
      "metadata": {
        "id": "PFF9MADZCY-r"
      }
    },
    {
      "cell_type": "code",
      "execution_count": 2,
      "metadata": {
        "id": "XwNB51sB_FWx"
      },
      "outputs": [],
      "source": [
        "# firslty import the data\n",
        "from sklearn.datasets import fetch_20newsgroups\n",
        "data = fetch_20newsgroups()"
      ]
    },
    {
      "cell_type": "code",
      "source": [
        "# We can check the labels of this dataset\n",
        "data.target_names"
      ],
      "metadata": {
        "colab": {
          "base_uri": "https://localhost:8080/"
        },
        "id": "iW_qcqS8Ds5F",
        "outputId": "a8b6cea0-103d-401e-82ee-184a36dc3201"
      },
      "execution_count": 3,
      "outputs": [
        {
          "output_type": "execute_result",
          "data": {
            "text/plain": [
              "['alt.atheism',\n",
              " 'comp.graphics',\n",
              " 'comp.os.ms-windows.misc',\n",
              " 'comp.sys.ibm.pc.hardware',\n",
              " 'comp.sys.mac.hardware',\n",
              " 'comp.windows.x',\n",
              " 'misc.forsale',\n",
              " 'rec.autos',\n",
              " 'rec.motorcycles',\n",
              " 'rec.sport.baseball',\n",
              " 'rec.sport.hockey',\n",
              " 'sci.crypt',\n",
              " 'sci.electronics',\n",
              " 'sci.med',\n",
              " 'sci.space',\n",
              " 'soc.religion.christian',\n",
              " 'talk.politics.guns',\n",
              " 'talk.politics.mideast',\n",
              " 'talk.politics.misc',\n",
              " 'talk.religion.misc']"
            ]
          },
          "metadata": {},
          "execution_count": 3
        }
      ]
    },
    {
      "cell_type": "code",
      "source": [
        "# Now we can select a few of these possible targets and proceed to download sets\n",
        "categories = ['rec.motorcycles','sci.electronics', 'sci.med','sci.space']"
      ],
      "metadata": {
        "id": "h9NFqySiD1Sr"
      },
      "execution_count": 4,
      "outputs": []
    },
    {
      "cell_type": "code",
      "source": [
        "# create train and test datasets\n",
        "X_train = fetch_20newsgroups(subset = 'train', categories = categories)\n",
        "X_test = fetch_20newsgroups(subset = 'test', categories = categories)"
      ],
      "metadata": {
        "id": "470baibcENGB"
      },
      "execution_count": 5,
      "outputs": []
    },
    {
      "cell_type": "code",
      "source": [
        "# Feature Engineering\n",
        "# Create a pipeline with model Multinomial Naive Bayes\n",
        "# and use TF-IDF for feature extraction.\n",
        "\n",
        "from sklearn.feature_extraction.text import TfidfVectorizer\n",
        "from sklearn.naive_bayes import MultinomialNB\n",
        "from sklearn.pipeline import make_pipeline\n",
        "model = make_pipeline(TfidfVectorizer(), MultinomialNB())"
      ],
      "metadata": {
        "id": "JELH9z94Ej9j"
      },
      "execution_count": 6,
      "outputs": []
    },
    {
      "cell_type": "code",
      "source": [
        "# Fit and test the data\n",
        "model.fit(X_train.data, X_train.target)\n",
        "labels = model.predict(X_test.data)"
      ],
      "metadata": {
        "id": "OOSoYJubEyuo"
      },
      "execution_count": 7,
      "outputs": []
    },
    {
      "cell_type": "code",
      "source": [
        "# Confusion Matrix\n",
        "import seaborn as sns\n",
        "import matplotlib.pyplot as plt\n",
        "\n",
        "from sklearn.metrics import confusion_matrix\n",
        "mat = confusion_matrix(X_test.target, labels)\n",
        "sns.heatmap(mat.T, square=True, annot=True, fmt='d', cbar=False,\n",
        "xticklabels=X_train.target_names, yticklabels=X_train.target_names)\n",
        "plt.xlabel('true label')\n",
        "plt.ylabel('predicted label');"
      ],
      "metadata": {
        "colab": {
          "base_uri": "https://localhost:8080/",
          "height": 349
        },
        "id": "uiPfwsu8E8gv",
        "outputId": "66ed568b-377b-4e62-a50b-3eac4c095fd7"
      },
      "execution_count": 8,
      "outputs": [
        {
          "output_type": "display_data",
          "data": {
            "text/plain": [
              "<Figure size 432x288 with 1 Axes>"
            ],
            "image/png": "[encoded data removed]"
          },
          "metadata": {
            "needs_background": "light"
          }
        }
      ]
    },
    {
      "cell_type": "code",
      "source": [
        "# Create a method that has a string as an argument\n",
        "def predict_category(s, train=X_train, model=model):\n",
        "  pred = model.predict([s])\n",
        "  return train.target_names[pred[0]]"
      ],
      "metadata": {
        "id": "kAHaLA-gFR6Z"
      },
      "execution_count": 9,
      "outputs": []
    },
    {
      "cell_type": "code",
      "source": [
        "predict_category('Alien attack on a shuttle')"
      ],
      "metadata": {
        "colab": {
          "base_uri": "https://localhost:8080/",
          "height": 35
        },
        "id": "_g_kBR4EFcpj",
        "outputId": "91892645-7313-4e81-fc4c-ebd07d60b183"
      },
      "execution_count": 18,
      "outputs": [
        {
          "output_type": "execute_result",
          "data": {
            "text/plain": [
              "'sci.space'"
            ],
            "application/vnd.google.colaboratory.intrinsic+json": {
              "type": "string"
            }
          },
          "metadata": {},
          "execution_count": 18
        }
      ]
    },
    {
      "cell_type": "code",
      "source": [
        "predict_category('Wounded nurse in an apocaliptic hospital')"
      ],
      "metadata": {
        "colab": {
          "base_uri": "https://localhost:8080/",
          "height": 35
        },
        "id": "DLClPEgqFfuz",
        "outputId": "fc187a56-e949-4f7d-ab78-7c83119035a7"
      },
      "execution_count": 17,
      "outputs": [
        {
          "output_type": "execute_result",
          "data": {
            "text/plain": [
              "'sci.med'"
            ],
            "application/vnd.google.colaboratory.intrinsic+json": {
              "type": "string"
            }
          },
          "metadata": {},
          "execution_count": 17
        }
      ]
    },
    {
      "cell_type": "code",
      "source": [
        "predict_category('TV and radio with low-bandth frequency')"
      ],
      "metadata": {
        "colab": {
          "base_uri": "https://localhost:8080/",
          "height": 35
        },
        "id": "e_7Syb5wFjx7",
        "outputId": "5bc9eb28-6864-470e-c6e4-69b90c0d1494"
      },
      "execution_count": 16,
      "outputs": [
        {
          "output_type": "execute_result",
          "data": {
            "text/plain": [
              "'sci.electronics'"
            ],
            "application/vnd.google.colaboratory.intrinsic+json": {
              "type": "string"
            }
          },
          "metadata": {},
          "execution_count": 16
        }
      ]
    },
    {
      "cell_type": "code",
      "source": [
        "predict_category('Wheelie on a highway')"
      ],
      "metadata": {
        "colab": {
          "base_uri": "https://localhost:8080/",
          "height": 35
        },
        "id": "6LZEDBbUFrBa",
        "outputId": "cc7451d6-8e70-492c-bc34-03a55d8b9c00"
      },
      "execution_count": 15,
      "outputs": [
        {
          "output_type": "execute_result",
          "data": {
            "text/plain": [
              "'rec.motorcycles'"
            ],
            "application/vnd.google.colaboratory.intrinsic+json": {
              "type": "string"
            }
          },
          "metadata": {},
          "execution_count": 15
        }
      ]
    }
  ]
}